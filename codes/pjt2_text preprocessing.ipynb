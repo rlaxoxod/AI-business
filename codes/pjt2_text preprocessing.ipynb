{
 "cells": [
  {
   "cell_type": "markdown",
   "id": "00f974bb-fffd-4a33-85e4-695b2f0b153f",
   "metadata": {
    "tags": []
   },
   "source": [
    "# Project2_Taewoo Kim_20233219"
   ]
  },
  {
   "cell_type": "markdown",
   "id": "e6f8764e-0930-43fe-b9df-014c016a537a",
   "metadata": {
    "tags": []
   },
   "source": [
    "## 2. Text Preprocessing"
   ]
  },
  {
   "cell_type": "code",
   "execution_count": 1,
   "id": "1782fc9b-d8d4-4c10-aed9-ed6305ad3e25",
   "metadata": {},
   "outputs": [],
   "source": [
    "import numpy as np\n",
    "import matplotlib.pyplot as pit\n",
    "import seaborn as sns\n",
    "import os\n",
    "import pandas as pd\n",
    "import string\n",
    "import sklearn\n",
    "from sklearn.feature_extraction.text import CountVectorizer, TfidfVectorizer\n",
    "import matplotlib.pyplot as plt\n",
    "import nltk\n",
    "from nltk.stem.porter import PorterStemmer\n",
    "from nltk.tokenize import word_tokenize\n",
    "from nltk.corpus import stopwords"
   ]
  },
  {
   "cell_type": "code",
   "execution_count": 2,
   "id": "1d1e38a3-266d-434c-a992-16fb625d1854",
   "metadata": {},
   "outputs": [
    {
     "data": {
      "text/html": [
       "<div>\n",
       "<style scoped>\n",
       "    .dataframe tbody tr th:only-of-type {\n",
       "        vertical-align: middle;\n",
       "    }\n",
       "\n",
       "    .dataframe tbody tr th {\n",
       "        vertical-align: top;\n",
       "    }\n",
       "\n",
       "    .dataframe thead th {\n",
       "        text-align: right;\n",
       "    }\n",
       "</style>\n",
       "<table border=\"1\" class=\"dataframe\">\n",
       "  <thead>\n",
       "    <tr style=\"text-align: right;\">\n",
       "      <th></th>\n",
       "      <th>Title</th>\n",
       "      <th>Akwds</th>\n",
       "      <th>Kwds</th>\n",
       "      <th>Abst</th>\n",
       "      <th>Affil</th>\n",
       "      <th>Year</th>\n",
       "      <th>Jabb</th>\n",
       "    </tr>\n",
       "  </thead>\n",
       "  <tbody>\n",
       "    <tr>\n",
       "      <th>0</th>\n",
       "      <td>PACING STRATEGIC CHANGE - THE CASE OF A NEW VE...</td>\n",
       "      <td>NaN</td>\n",
       "      <td>PERFORMANCE; TIME; MANAGEMENT; DECISIONS; FIRM</td>\n",
       "      <td>Theorists debate whether organizations are ine...</td>\n",
       "      <td>NaN</td>\n",
       "      <td>1994</td>\n",
       "      <td>Acad. Manage. J.</td>\n",
       "    </tr>\n",
       "    <tr>\n",
       "      <th>1</th>\n",
       "      <td>GENDER DIFFERENCES IN MANAGERS DEVELOPMENTAL J...</td>\n",
       "      <td>NaN</td>\n",
       "      <td>RATIONAL BIAS; DISCRIMINATION; EMPLOYMENT; IMP...</td>\n",
       "      <td>It has been suggested that one reason so few w...</td>\n",
       "      <td>NaN</td>\n",
       "      <td>1994</td>\n",
       "      <td>Acad. Manage. J.</td>\n",
       "    </tr>\n",
       "    <tr>\n",
       "      <th>2</th>\n",
       "      <td>INVESTIGATING THE GLASS CEILING PHENOMENON - A...</td>\n",
       "      <td>NaN</td>\n",
       "      <td>SELECTION DECISION-MODELS; MANAGERIAL POSITION...</td>\n",
       "      <td>Although a ''glass ceiling'' is said to keep w...</td>\n",
       "      <td>University of Massachusetts System; University...</td>\n",
       "      <td>1994</td>\n",
       "      <td>Acad. Manage. J.</td>\n",
       "    </tr>\n",
       "    <tr>\n",
       "      <th>3</th>\n",
       "      <td>BRINGING THE INDIVIDUAL BACK IN - A STRUCTURAL...</td>\n",
       "      <td>NaN</td>\n",
       "      <td>PERFORMANCE-APPRAISAL RESEARCH; INFORMANT ACCU...</td>\n",
       "      <td>We challenge the claimed incommensurability of...</td>\n",
       "      <td>Carnegie Mellon University</td>\n",
       "      <td>1994</td>\n",
       "      <td>Acad. Manage. J.</td>\n",
       "    </tr>\n",
       "    <tr>\n",
       "      <th>4</th>\n",
       "      <td>EXTENDING MODERN PORTFOLIO THEORY INTO THE DOM...</td>\n",
       "      <td>NaN</td>\n",
       "      <td>MODERN FINANCIAL THEORY; SYSTEMATIC-RISK; CAPI...</td>\n",
       "      <td>It is widely held that diversification lowers ...</td>\n",
       "      <td>Case Western Reserve University</td>\n",
       "      <td>1994</td>\n",
       "      <td>Acad. Manage. J.</td>\n",
       "    </tr>\n",
       "  </tbody>\n",
       "</table>\n",
       "</div>"
      ],
      "text/plain": [
       "                                               Title Akwds  \\\n",
       "0  PACING STRATEGIC CHANGE - THE CASE OF A NEW VE...   NaN   \n",
       "1  GENDER DIFFERENCES IN MANAGERS DEVELOPMENTAL J...   NaN   \n",
       "2  INVESTIGATING THE GLASS CEILING PHENOMENON - A...   NaN   \n",
       "3  BRINGING THE INDIVIDUAL BACK IN - A STRUCTURAL...   NaN   \n",
       "4  EXTENDING MODERN PORTFOLIO THEORY INTO THE DOM...   NaN   \n",
       "\n",
       "                                                Kwds  \\\n",
       "0     PERFORMANCE; TIME; MANAGEMENT; DECISIONS; FIRM   \n",
       "1  RATIONAL BIAS; DISCRIMINATION; EMPLOYMENT; IMP...   \n",
       "2  SELECTION DECISION-MODELS; MANAGERIAL POSITION...   \n",
       "3  PERFORMANCE-APPRAISAL RESEARCH; INFORMANT ACCU...   \n",
       "4  MODERN FINANCIAL THEORY; SYSTEMATIC-RISK; CAPI...   \n",
       "\n",
       "                                                Abst  \\\n",
       "0  Theorists debate whether organizations are ine...   \n",
       "1  It has been suggested that one reason so few w...   \n",
       "2  Although a ''glass ceiling'' is said to keep w...   \n",
       "3  We challenge the claimed incommensurability of...   \n",
       "4  It is widely held that diversification lowers ...   \n",
       "\n",
       "                                               Affil  Year              Jabb  \n",
       "0                                                NaN  1994  Acad. Manage. J.  \n",
       "1                                                NaN  1994  Acad. Manage. J.  \n",
       "2  University of Massachusetts System; University...  1994  Acad. Manage. J.  \n",
       "3                         Carnegie Mellon University  1994  Acad. Manage. J.  \n",
       "4                    Case Western Reserve University  1994  Acad. Manage. J.  "
      ]
     },
     "execution_count": 2,
     "metadata": {},
     "output_type": "execute_result"
    }
   ],
   "source": [
    "df = pd.read_csv('pjt2_data/NLP_finn.csv')\n",
    "df.head()"
   ]
  },
  {
   "cell_type": "code",
   "execution_count": 3,
   "id": "63a28a12-f555-44f5-9812-d86a5a1589d9",
   "metadata": {},
   "outputs": [
    {
     "data": {
      "text/plain": [
       "Jabb\n",
       "Acad. Manage. J.       1774\n",
       "Manage. Sci.           5394\n",
       "Organ Sci.             1781\n",
       "Strateg. Manage. J.    2282\n",
       "Name: Title, dtype: int64"
      ]
     },
     "execution_count": 3,
     "metadata": {},
     "output_type": "execute_result"
    }
   ],
   "source": [
    "df.groupby('Jabb')['Title'].count()"
   ]
  },
  {
   "cell_type": "code",
   "execution_count": 4,
   "id": "08667b73-2ea2-4c8b-9e53-9b736d9f78c2",
   "metadata": {},
   "outputs": [
    {
     "data": {
      "text/plain": [
       "count            11231\n",
       "unique               4\n",
       "top       Manage. Sci.\n",
       "freq              5394\n",
       "Name: Jabb, dtype: object"
      ]
     },
     "execution_count": 4,
     "metadata": {},
     "output_type": "execute_result"
    }
   ],
   "source": [
    "df['Jabb'].describe()"
   ]
  },
  {
   "cell_type": "code",
   "execution_count": 5,
   "id": "b6693b82-8853-4434-823c-ca37e9bf8eaa",
   "metadata": {},
   "outputs": [],
   "source": [
    "abst = df['Abst']"
   ]
  },
  {
   "cell_type": "markdown",
   "id": "23182469-b078-452f-b3c6-1f1bb51328d5",
   "metadata": {},
   "source": [
    "### (1) P: Punctuation"
   ]
  },
  {
   "cell_type": "code",
   "execution_count": 6,
   "id": "d16f6bd1-e800-4d60-8dcb-82fc4e38ff9e",
   "metadata": {},
   "outputs": [
    {
     "name": "stdout",
     "output_type": "stream",
     "text": [
      "No Punctuation\n"
     ]
    }
   ],
   "source": [
    "punctuation = string.punctuation # !\"#$%&\\'()*+,-./:;<=>?@[\\\\]^_{|}~`\n",
    "\n",
    "abst = abst.str.translate(str.maketrans('', '', punctuation))\n",
    "\n",
    "if any(abst.apply(lambda x: any(c in punctuation for c in x))):\n",
    "    print('Yes Puctuation')\n",
    "else:\n",
    "    print('No Punctuation')"
   ]
  },
  {
   "cell_type": "markdown",
   "id": "73614e77-9449-4c31-a494-89e01aaf8354",
   "metadata": {},
   "source": [
    "### (2) N: Numbers"
   ]
  },
  {
   "cell_type": "code",
   "execution_count": 7,
   "id": "b8a031c6-924e-45b1-a6b0-9ac432b89944",
   "metadata": {},
   "outputs": [
    {
     "name": "stdout",
     "output_type": "stream",
     "text": [
      "No Number\n"
     ]
    }
   ],
   "source": [
    "import re\n",
    "abst = abst.apply(lambda x: re.sub(r'\\d+', '', x))\n",
    "\n",
    "if abst.str.contains('\\d+').any():\n",
    "    print('Yes Number') \n",
    "else:\n",
    "    print('No Number')"
   ]
  },
  {
   "cell_type": "markdown",
   "id": "a9e69dc6-a9f4-430c-83f9-b4205a96b871",
   "metadata": {},
   "source": [
    "### (3) L: Lowercasing"
   ]
  },
  {
   "cell_type": "code",
   "execution_count": 8,
   "id": "861e8ee8-dcc9-4fdb-a817-4d82deac6f4b",
   "metadata": {},
   "outputs": [
    {
     "name": "stdout",
     "output_type": "stream",
     "text": [
      "No Uppercase\n"
     ]
    }
   ],
   "source": [
    "abst = abst.str.lower()\n",
    "\n",
    "has_uppercase = abst.str.contains('[A-Z]').any()\n",
    "if has_uppercase == True:\n",
    "    print(\"Yes Uppercase\")\n",
    "else:\n",
    "    print(\"No Uppercase\")"
   ]
  },
  {
   "cell_type": "markdown",
   "id": "9233c418-88bf-456c-92f8-c45a8f1c713c",
   "metadata": {},
   "source": [
    "### (4) S: Stemming"
   ]
  },
  {
   "cell_type": "code",
   "execution_count": 9,
   "id": "548776ac-1b35-470a-933b-e0bc95cdca7c",
   "metadata": {},
   "outputs": [],
   "source": [
    "stemmer = PorterStemmer()\n",
    "abst_stem = abst.apply(lambda x: \" \".join([stemmer.stem(word) for word in word_tokenize(x)])) #abst는 stem 안한 상태, abst_stem은 stem 한 상태"
   ]
  },
  {
   "cell_type": "markdown",
   "id": "ab539b7e-263e-40da-b912-299a293a6814",
   "metadata": {},
   "source": [
    "### (5) W: Stopword Removal"
   ]
  },
  {
   "cell_type": "code",
   "execution_count": 10,
   "id": "c5240721-6bca-4fea-bd47-1de4de5da34d",
   "metadata": {},
   "outputs": [],
   "source": [
    "# stopwords 로드\n",
    "stop_words = set(stopwords.words('english'))\n",
    "\n",
    "# 'text' 열에서 stopwords 제거\n",
    "abst = abst.apply(lambda x: \" \".join([word for word in x.split() if word not in stop_words]))\n",
    "abst_stem = abst_stem.apply(lambda x: \" \".join([word for word in x.split() if word not in stop_words]))"
   ]
  },
  {
   "cell_type": "markdown",
   "id": "2f715076-fa2a-4f02-8ac2-f0973eae7575",
   "metadata": {},
   "source": [
    "### (6) 3 n-grams & Infrequently used terms"
   ]
  },
  {
   "cell_type": "code",
   "execution_count": 11,
   "id": "0480aee6-ac2b-472d-a1b2-cff06c2dc33f",
   "metadata": {},
   "outputs": [],
   "source": [
    "vectorizer1 = CountVectorizer(ngram_range=(1,3), min_df=0.01)\n",
    "X = vectorizer1.fit_transform(abst).toarray() # without stemming\n",
    "\n",
    "vectorizer2 = CountVectorizer(ngram_range=(1,3), min_df=0.01)\n",
    "X_stem = vectorizer2.fit_transform(abst_stem).toarray() # with stemming"
   ]
  },
  {
   "cell_type": "code",
   "execution_count": 12,
   "id": "758079aa-35ec-4a83-91a3-8a235ecb6013",
   "metadata": {},
   "outputs": [],
   "source": [
    "wo_stem = list(vectorizer1.vocabulary_.keys())\n",
    "#print(wo_stem)"
   ]
  },
  {
   "cell_type": "code",
   "execution_count": 13,
   "id": "a2d9cc2e-963f-49b0-958e-9cca407fb33e",
   "metadata": {},
   "outputs": [],
   "source": [
    "w_stem = list(vectorizer2.vocabulary_.keys())\n",
    "#print(w_stem)"
   ]
  },
  {
   "cell_type": "markdown",
   "id": "351ff94f-bcf5-4a28-8333-8641873d5b8c",
   "metadata": {},
   "source": [
    "### Visualize Word Counts"
   ]
  },
  {
   "cell_type": "code",
   "execution_count": 14,
   "id": "e5d8c327-15f9-456a-876c-e1827193f3d4",
   "metadata": {},
   "outputs": [],
   "source": [
    "# before preprocessing\n",
    "wc_before = df['Abst'].apply(lambda x: len(x.split()))\n",
    "# after preprocessing without stemming\n",
    "wc_after = pd.Series(np.sum(X, axis=1))"
   ]
  },
  {
   "cell_type": "code",
   "execution_count": 15,
   "id": "e7cc5e14-c7a6-4742-a525-25f2393d0c59",
   "metadata": {},
   "outputs": [
    {
     "name": "stdout",
     "output_type": "stream",
     "text": [
      "(11231, 7)\n"
     ]
    }
   ],
   "source": [
    "print(df.shape)"
   ]
  },
  {
   "cell_type": "code",
   "execution_count": 16,
   "id": "2acc5faf-7de0-4db3-b178-70699608ed80",
   "metadata": {},
   "outputs": [
    {
     "name": "stdout",
     "output_type": "stream",
     "text": [
      "(11231,)\n"
     ]
    }
   ],
   "source": [
    "print(wc_before.shape)"
   ]
  },
  {
   "cell_type": "code",
   "execution_count": 17,
   "id": "7890b8ba-339b-4c79-a359-1816f3eecbe3",
   "metadata": {},
   "outputs": [
    {
     "name": "stdout",
     "output_type": "stream",
     "text": [
      "(11231,)\n"
     ]
    }
   ],
   "source": [
    "print(wc_after.shape)"
   ]
  },
  {
   "cell_type": "code",
   "execution_count": 18,
   "id": "8f89dd8c-c68f-442c-a4d7-c9a4a0911da0",
   "metadata": {},
   "outputs": [],
   "source": [
    "df['wc_before'] = wc_before\n",
    "df['wc_after'] = wc_after"
   ]
  },
  {
   "cell_type": "code",
   "execution_count": 19,
   "id": "e92c2ea5-d51c-4f7f-96fe-a1332d42f37c",
   "metadata": {},
   "outputs": [
    {
     "data": {
      "text/html": [
       "<div>\n",
       "<style scoped>\n",
       "    .dataframe tbody tr th:only-of-type {\n",
       "        vertical-align: middle;\n",
       "    }\n",
       "\n",
       "    .dataframe tbody tr th {\n",
       "        vertical-align: top;\n",
       "    }\n",
       "\n",
       "    .dataframe thead th {\n",
       "        text-align: right;\n",
       "    }\n",
       "</style>\n",
       "<table border=\"1\" class=\"dataframe\">\n",
       "  <thead>\n",
       "    <tr style=\"text-align: right;\">\n",
       "      <th></th>\n",
       "      <th>Title</th>\n",
       "      <th>Akwds</th>\n",
       "      <th>Kwds</th>\n",
       "      <th>Abst</th>\n",
       "      <th>Affil</th>\n",
       "      <th>Year</th>\n",
       "      <th>Jabb</th>\n",
       "      <th>wc_before</th>\n",
       "      <th>wc_after</th>\n",
       "    </tr>\n",
       "  </thead>\n",
       "  <tbody>\n",
       "    <tr>\n",
       "      <th>0</th>\n",
       "      <td>PACING STRATEGIC CHANGE - THE CASE OF A NEW VE...</td>\n",
       "      <td>NaN</td>\n",
       "      <td>PERFORMANCE; TIME; MANAGEMENT; DECISIONS; FIRM</td>\n",
       "      <td>Theorists debate whether organizations are ine...</td>\n",
       "      <td>NaN</td>\n",
       "      <td>1994</td>\n",
       "      <td>Acad. Manage. J.</td>\n",
       "      <td>113</td>\n",
       "      <td>43</td>\n",
       "    </tr>\n",
       "    <tr>\n",
       "      <th>1</th>\n",
       "      <td>GENDER DIFFERENCES IN MANAGERS DEVELOPMENTAL J...</td>\n",
       "      <td>NaN</td>\n",
       "      <td>RATIONAL BIAS; DISCRIMINATION; EMPLOYMENT; IMP...</td>\n",
       "      <td>It has been suggested that one reason so few w...</td>\n",
       "      <td>NaN</td>\n",
       "      <td>1994</td>\n",
       "      <td>Acad. Manage. J.</td>\n",
       "      <td>71</td>\n",
       "      <td>29</td>\n",
       "    </tr>\n",
       "    <tr>\n",
       "      <th>2</th>\n",
       "      <td>INVESTIGATING THE GLASS CEILING PHENOMENON - A...</td>\n",
       "      <td>NaN</td>\n",
       "      <td>SELECTION DECISION-MODELS; MANAGERIAL POSITION...</td>\n",
       "      <td>Although a ''glass ceiling'' is said to keep w...</td>\n",
       "      <td>University of Massachusetts System; University...</td>\n",
       "      <td>1994</td>\n",
       "      <td>Acad. Manage. J.</td>\n",
       "      <td>79</td>\n",
       "      <td>34</td>\n",
       "    </tr>\n",
       "    <tr>\n",
       "      <th>3</th>\n",
       "      <td>BRINGING THE INDIVIDUAL BACK IN - A STRUCTURAL...</td>\n",
       "      <td>NaN</td>\n",
       "      <td>PERFORMANCE-APPRAISAL RESEARCH; INFORMANT ACCU...</td>\n",
       "      <td>We challenge the claimed incommensurability of...</td>\n",
       "      <td>Carnegie Mellon University</td>\n",
       "      <td>1994</td>\n",
       "      <td>Acad. Manage. J.</td>\n",
       "      <td>97</td>\n",
       "      <td>38</td>\n",
       "    </tr>\n",
       "    <tr>\n",
       "      <th>4</th>\n",
       "      <td>EXTENDING MODERN PORTFOLIO THEORY INTO THE DOM...</td>\n",
       "      <td>NaN</td>\n",
       "      <td>MODERN FINANCIAL THEORY; SYSTEMATIC-RISK; CAPI...</td>\n",
       "      <td>It is widely held that diversification lowers ...</td>\n",
       "      <td>Case Western Reserve University</td>\n",
       "      <td>1994</td>\n",
       "      <td>Acad. Manage. J.</td>\n",
       "      <td>75</td>\n",
       "      <td>36</td>\n",
       "    </tr>\n",
       "  </tbody>\n",
       "</table>\n",
       "</div>"
      ],
      "text/plain": [
       "                                               Title Akwds  \\\n",
       "0  PACING STRATEGIC CHANGE - THE CASE OF A NEW VE...   NaN   \n",
       "1  GENDER DIFFERENCES IN MANAGERS DEVELOPMENTAL J...   NaN   \n",
       "2  INVESTIGATING THE GLASS CEILING PHENOMENON - A...   NaN   \n",
       "3  BRINGING THE INDIVIDUAL BACK IN - A STRUCTURAL...   NaN   \n",
       "4  EXTENDING MODERN PORTFOLIO THEORY INTO THE DOM...   NaN   \n",
       "\n",
       "                                                Kwds  \\\n",
       "0     PERFORMANCE; TIME; MANAGEMENT; DECISIONS; FIRM   \n",
       "1  RATIONAL BIAS; DISCRIMINATION; EMPLOYMENT; IMP...   \n",
       "2  SELECTION DECISION-MODELS; MANAGERIAL POSITION...   \n",
       "3  PERFORMANCE-APPRAISAL RESEARCH; INFORMANT ACCU...   \n",
       "4  MODERN FINANCIAL THEORY; SYSTEMATIC-RISK; CAPI...   \n",
       "\n",
       "                                                Abst  \\\n",
       "0  Theorists debate whether organizations are ine...   \n",
       "1  It has been suggested that one reason so few w...   \n",
       "2  Although a ''glass ceiling'' is said to keep w...   \n",
       "3  We challenge the claimed incommensurability of...   \n",
       "4  It is widely held that diversification lowers ...   \n",
       "\n",
       "                                               Affil  Year              Jabb  \\\n",
       "0                                                NaN  1994  Acad. Manage. J.   \n",
       "1                                                NaN  1994  Acad. Manage. J.   \n",
       "2  University of Massachusetts System; University...  1994  Acad. Manage. J.   \n",
       "3                         Carnegie Mellon University  1994  Acad. Manage. J.   \n",
       "4                    Case Western Reserve University  1994  Acad. Manage. J.   \n",
       "\n",
       "   wc_before  wc_after  \n",
       "0        113        43  \n",
       "1         71        29  \n",
       "2         79        34  \n",
       "3         97        38  \n",
       "4         75        36  "
      ]
     },
     "execution_count": 19,
     "metadata": {},
     "output_type": "execute_result"
    }
   ],
   "source": [
    "df.head()"
   ]
  },
  {
   "cell_type": "code",
   "execution_count": 20,
   "id": "c274f730-64da-40ac-b4e5-43c9d24ce124",
   "metadata": {},
   "outputs": [
    {
     "data": {
      "image/png": "[encoded data removed]",
      "text/plain": [
       "<Figure size 640x480 with 1 Axes>"
      ]
     },
     "metadata": {},
     "output_type": "display_data"
    }
   ],
   "source": [
    "df_melt = pd.melt(df, id_vars=['Jabb'], value_vars=['wc_before', 'wc_after'])\n",
    "sns.histplot(df_melt, x='value', hue='variable', stat='probability', multiple='dodge')\n",
    "plt.xlabel('Wordcount')\n",
    "plt.ylabel('Frequency')\n",
    "plt.show()"
   ]
  }
 ],
 "metadata": {
  "kernelspec": {
   "display_name": "Python 3 (ipykernel)",
   "language": "python",
   "name": "python3"
  },
  "language_info": {
   "codemirror_mode": {
    "name": "ipython",
    "version": 3
   },
   "file_extension": ".py",
   "mimetype": "text/x-python",
   "name": "python",
   "nbconvert_exporter": "python",
   "pygments_lexer": "ipython3",
   "version": "3.9.16"
  }
 },
 "nbformat": 4,
 "nbformat_minor": 5
}
