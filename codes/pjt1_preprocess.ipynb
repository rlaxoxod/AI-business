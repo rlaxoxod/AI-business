{
 "cells": [
  {
   "cell_type": "markdown",
   "id": "6bd0f6fc-ff19-4313-b319-b1aae03e09e7",
   "metadata": {},
   "source": [
    "#Assignment 1\n",
    "#20233219 Taewoo Kim"
   ]
  },
  {
   "cell_type": "code",
   "execution_count": 1,
   "id": "8515d424-e942-46a6-9676-9a37d109e8d7",
   "metadata": {},
   "outputs": [],
   "source": [
    "import pandas as pd\n",
    "import matplotlib.pyplot as plt\n",
    "import datetime as dt\n",
    "import seaborn as sns"
   ]
  },
  {
   "cell_type": "code",
   "execution_count": 2,
   "id": "eea7c6f1-a20e-487b-839c-38e39db559f1",
   "metadata": {},
   "outputs": [],
   "source": [
    "df = pd.read_csv('online_retail_II.csv')"
   ]
  },
  {
   "cell_type": "code",
   "execution_count": 3,
   "id": "8008bb3d-db7e-4888-b179-4950724a8487",
   "metadata": {},
   "outputs": [
    {
     "name": "stdout",
     "output_type": "stream",
     "text": [
      "<class 'pandas.core.frame.DataFrame'>\n",
      "RangeIndex: 1067371 entries, 0 to 1067370\n",
      "Data columns (total 9 columns):\n",
      " #   Column       Non-Null Count    Dtype  \n",
      "---  ------       --------------    -----  \n",
      " 0   Unnamed: 0   1067371 non-null  int64  \n",
      " 1   Invoice      1067371 non-null  object \n",
      " 2   StockCode    1067371 non-null  object \n",
      " 3   Description  1062989 non-null  object \n",
      " 4   Quantity     1067371 non-null  int64  \n",
      " 5   InvoiceDate  1067371 non-null  object \n",
      " 6   Price        1067371 non-null  float64\n",
      " 7   Customer ID  824364 non-null   float64\n",
      " 8   Country      1067371 non-null  object \n",
      "dtypes: float64(2), int64(2), object(5)\n",
      "memory usage: 73.3+ MB\n"
     ]
    }
   ],
   "source": [
    "df.info()"
   ]
  },
  {
   "cell_type": "code",
   "execution_count": 4,
   "id": "a3dcd86a-79e7-41eb-a145-e246b6325954",
   "metadata": {},
   "outputs": [],
   "source": [
    "df.drop(\"Unnamed: 0\", axis = 1, inplace = True)"
   ]
  },
  {
   "cell_type": "code",
   "execution_count": 5,
   "id": "34466df9-f5d2-4d69-b2ec-08c03f9b3147",
   "metadata": {},
   "outputs": [
    {
     "data": {
      "text/plain": [
       "0    1047877\n",
       "1      19494\n",
       "Name: Cancellation, dtype: int64"
      ]
     },
     "execution_count": 5,
     "metadata": {},
     "output_type": "execute_result"
    }
   ],
   "source": [
    "#Cancellation 변수 생성\n",
    "df['Cancellation'] = df['Invoice'].str.contains('C').astype(int)\n",
    "df['Cancellation'].value_counts()"
   ]
  },
  {
   "cell_type": "code",
   "execution_count": 6,
   "id": "34afbdbc-941b-4bc2-9dcd-e83f7b2d3583",
   "metadata": {},
   "outputs": [],
   "source": [
    "#Revenue 변수 생성\n",
    "df['Revenue'] = df['Quantity']*df['Price']"
   ]
  },
  {
   "cell_type": "code",
   "execution_count": 7,
   "id": "933a00de-d1a1-459a-be8d-83d976a270e8",
   "metadata": {},
   "outputs": [],
   "source": [
    "#데이터타입 변환\n",
    "df['Invoice'] = df['Invoice'].astype('category')\n",
    "df['StockCode'] = df['StockCode'].astype('category')\n",
    "df['Description'] = df['Description'].astype('category')\n",
    "df['Customer ID'] = df['Customer ID'].astype('object')\n",
    "df['InvoiceDate'] = pd.to_datetime(df['InvoiceDate'])\n",
    "df['Country'] = df['Country'].astype('category')\n",
    "df['Cancellation'] = df['Cancellation'].astype('category')"
   ]
  },
  {
   "cell_type": "code",
   "execution_count": 8,
   "id": "e5e43b1c-2b1e-474d-a1a1-6fa79cb470cc",
   "metadata": {},
   "outputs": [],
   "source": [
    "#날짜 출력 format 변경 및 index 지정\n",
    "df['InvoiceDate'] = df['InvoiceDate'].dt.strftime(\"%Y-%m-%d\")\n",
    "df['InvoiceDate'] = pd.to_datetime(df['InvoiceDate'])\n",
    "df.set_index('InvoiceDate', inplace = True)"
   ]
  },
  {
   "cell_type": "code",
   "execution_count": 9,
   "id": "12ab8dea-a72d-4ef6-9239-a209018d0fe4",
   "metadata": {},
   "outputs": [],
   "source": [
    "#결측치 처리\n",
    "df['Customer ID'].fillna('No ID', inplace = True)\n",
    "df.dropna(subset=['Description'], how='any', axis=0)\n",
    "df = df[df.Quantity > 0]\n",
    "df = df[df.Price >= 0]\n",
    "cl_df = df"
   ]
  },
  {
   "cell_type": "code",
   "execution_count": 10,
   "id": "6204e739-9e53-43e6-8b02-11c42bc64397",
   "metadata": {},
   "outputs": [
    {
     "name": "stdout",
     "output_type": "stream",
     "text": [
      "<class 'pandas.core.frame.DataFrame'>\n",
      "DatetimeIndex: 1044416 entries, 2009-12-01 to 2011-12-09\n",
      "Data columns (total 9 columns):\n",
      " #   Column        Non-Null Count    Dtype   \n",
      "---  ------        --------------    -----   \n",
      " 0   Invoice       1044416 non-null  category\n",
      " 1   StockCode     1044416 non-null  category\n",
      " 2   Description   1042723 non-null  category\n",
      " 3   Quantity      1044416 non-null  int64   \n",
      " 4   Price         1044416 non-null  float64 \n",
      " 5   Customer ID   1044416 non-null  object  \n",
      " 6   Country       1044416 non-null  category\n",
      " 7   Cancellation  1044416 non-null  category\n",
      " 8   Revenue       1044416 non-null  float64 \n",
      "dtypes: category(5), float64(2), int64(1), object(1)\n",
      "memory usage: 52.6+ MB\n",
      "None\n"
     ]
    }
   ],
   "source": [
    "print(cl_df.info())"
   ]
  },
  {
   "cell_type": "code",
   "execution_count": 15,
   "id": "dd5170ac-244c-44e0-9b29-8498984ddd89",
   "metadata": {},
   "outputs": [],
   "source": [
    "cl_df['Quantity'] = cl_df['Quantity'].astype('int32')\n",
    "cl_df['Price'] = cl_df['Price'].astype('int32')\n",
    "cl_df['Revenue'] = cl_df['Revenue'].astype('float32')"
   ]
  },
  {
   "cell_type": "code",
   "execution_count": 16,
   "id": "56d13f98-4186-4b2c-9e8c-ba36cf2af63f",
   "metadata": {},
   "outputs": [
    {
     "name": "stdout",
     "output_type": "stream",
     "text": [
      "<class 'pandas.core.frame.DataFrame'>\n",
      "DatetimeIndex: 1044416 entries, 2009-12-01 to 2011-12-09\n",
      "Data columns (total 9 columns):\n",
      " #   Column        Non-Null Count    Dtype   \n",
      "---  ------        --------------    -----   \n",
      " 0   Invoice       1044416 non-null  category\n",
      " 1   StockCode     1044416 non-null  category\n",
      " 2   Description   1042723 non-null  category\n",
      " 3   Quantity      1044416 non-null  int32   \n",
      " 4   Price         1044416 non-null  int32   \n",
      " 5   Customer ID   1044416 non-null  object  \n",
      " 6   Country       1044416 non-null  category\n",
      " 7   Cancellation  1044416 non-null  category\n",
      " 8   Revenue       1044416 non-null  float32 \n",
      "dtypes: category(5), float32(1), int32(2), object(1)\n",
      "memory usage: 40.6+ MB\n",
      "None\n"
     ]
    }
   ],
   "source": [
    "print(cl_df.info())"
   ]
  },
  {
   "cell_type": "code",
   "execution_count": 17,
   "id": "99c72001-a1c8-4286-85be-8a373f4ea460",
   "metadata": {},
   "outputs": [],
   "source": [
    "cl_df.to_csv('cl_data.csv')"
   ]
  },
  {
   "cell_type": "code",
   "execution_count": null,
   "id": "67bdc8a0-e0d3-4440-9e9c-81e25741d85d",
   "metadata": {},
   "outputs": [],
   "source": [
    "#bin graph1\n",
    "description_counts = cl_df['Description'].value_counts().sort_values(ascending=False)\n",
    "description_top10 = description_counts.head(10)\n",
    "description_top10.sort_values(ascending=True).plot.barh()\n",
    "plt.title('Description top10')\n",
    "plt.xlabel('Count')\n",
    "plt.show()"
   ]
  },
  {
   "cell_type": "code",
   "execution_count": null,
   "id": "64a43d51-625c-451a-a596-f729322855fd",
   "metadata": {},
   "outputs": [],
   "source": [
    "#bin graph2\n",
    "country_counts = cl_df['Country'].value_counts().sort_values(ascending=False)\n",
    "country_top10 = country_counts.head(10)\n",
    "country_top10.sort_values(ascending=True).plot.barh()\n",
    "plt.title('Country top10')\n",
    "plt.xlabel('Count')\n",
    "plt.xscale('log')\n",
    "plt.show()"
   ]
  },
  {
   "cell_type": "code",
   "execution_count": null,
   "id": "4cc53fec-042e-4495-8a0b-814d89707f54",
   "metadata": {},
   "outputs": [],
   "source": [
    "#boxplot\n",
    "plt.style.use('seaborn-poster')\n",
    "plt.rcParams['axes.unicode_minus']=False\n",
    "\n",
    "\n",
    "fig = plt.figure(figsize=(15,5))\n",
    "ax1 = fig.add_subplot(1,3,1)\n",
    "ax2 = fig.add_subplot(1,3,2)\n",
    "ax3 = fig.add_subplot(1,3,3)\n",
    "\n",
    "ax2.boxplot(x=cl_df['Price'], showfliers=False, labels=[''])\n",
    "ax1.boxplot(x=cl_df['Quantity'], showfliers=False, labels=[''])\n",
    "ax3.boxplot(x=cl_df['Revenue'], showfliers=False, labels=[''])\n",
    "\n",
    "ax1.tick_params(axis='y', labelsize=10)\n",
    "ax2.tick_params(axis='y', labelsize=10)\n",
    "ax3.tick_params(axis='y', labelsize=10)\n",
    "\n",
    "ax2.set_title('Price')\n",
    "ax1.set_title('Quantity')\n",
    "ax3.set_title('Revenue')\n",
    "plt.show()"
   ]
  },
  {
   "cell_type": "code",
   "execution_count": null,
   "id": "6f556db5-9bd4-470e-b7a7-06657b4d107d",
   "metadata": {},
   "outputs": [],
   "source": [
    "print(cl_df.describe())"
   ]
  },
  {
   "cell_type": "code",
   "execution_count": null,
   "id": "933c78f1-d78c-430d-a722-ab7111800dc2",
   "metadata": {},
   "outputs": [],
   "source": [
    "#범주형 변수를 도수 분포 낮은 순부터 자연수로 Labeling해서 수치화\n",
    "\n",
    "# 각 범주형 변수의 도수 분포 구하기\n",
    "Invoice_counts = cl_df['Invoice'].value_counts().sort_values()\n",
    "StockCode_counts = cl_df['StockCode'].value_counts().sort_values()\n",
    "Description_counts = cl_df['Description'].value_counts().sort_values()\n",
    "Country_counts = cl_df['Country'].value_counts().sort_values()\n",
    "Cancellation_counts = cl_df['Cancellation'].value_counts().sort_values()\n",
    "\n",
    "# labeling\n",
    "Invoice_labels = {Invoice_counts.index[i]: i+1 for i in range(len(Invoice_counts))}\n",
    "StockCode_labels = {StockCode_counts.index[i]: i+1 for i in range(len(StockCode_counts))}\n",
    "Description_labels = {Description_counts.index[i]: i+1 for i in range(len(Description_counts))}\n",
    "Country_labels = {Country_counts.index[i]: i+1 for i in range(len(Country_counts))}\n",
    "Cancellation_labels = {Cancellation_counts.index[i]: i+1 for i in range(len(Cancellation_counts))}\n",
    "\n",
    "# labeling된 값을 적용하여 데이터프레임 각 열을 수치화\n",
    "cl_df['Invoice_code'] = cl_df['Invoice'].map(Invoice_labels).astype('int')\n",
    "cl_df['StockCode_code'] = cl_df['StockCode'].map(StockCode_labels).astype('int')\n",
    "cl_df['Description_code'] = cl_df['Description'].map(Description_labels).astype('int')\n",
    "cl_df['Country_code'] = cl_df['Country'].map(Country_labels).astype('int')\n",
    "cl_df['Cancellation_code'] = cl_df['Cancellation'].map(Cancellation_labels).astype('int')\n",
    "\n",
    "# 상관관계 행렬 시각화\n",
    "num_df = cl_df[['Invoice_code', 'StockCode_code', 'Description_code', \n",
    "                'Country_code', 'Cancellation_code', 'Quantity', 'Price', 'Revenue']]\n",
    "num_corr = num_df.corr(method='pearson')\n",
    "plt.figure(figsize=(8, 6))\n",
    "ax = sns.heatmap(num_corr, cmap='coolwarm', annot=True, annot_kws={\"fontsize\": 8})\n",
    "ax.set_title(\"Correlation Heatmap\", fontsize=16)\n",
    "plt.xticks(fontsize=8)\n",
    "plt.yticks(fontsize=8)\n",
    "plt.show()"
   ]
  },
  {
   "cell_type": "code",
   "execution_count": 3,
   "id": "e9301cff-45cd-4862-9ffb-2e3f37439e0a",
   "metadata": {},
   "outputs": [
    {
     "name": "stdout",
     "output_type": "stream",
     "text": [
      "Requirement already satisfied: nbconvert in c:\\users\\administrator\\anaconda3\\lib\\site-packages (6.4.4)\n",
      "Requirement already satisfied: entrypoints>=0.2.2 in c:\\users\\administrator\\anaconda3\\lib\\site-packages (from nbconvert) (0.4)\n",
      "Requirement already satisfied: testpath in c:\\users\\administrator\\anaconda3\\lib\\site-packages (from nbconvert) (0.6.0)\n",
      "Requirement already satisfied: defusedxml in c:\\users\\administrator\\anaconda3\\lib\\site-packages (from nbconvert) (0.7.1)\n",
      "Requirement already satisfied: beautifulsoup4 in c:\\users\\administrator\\anaconda3\\lib\\site-packages (from nbconvert) (4.11.1)\n",
      "Requirement already satisfied: jupyter-core in c:\\users\\administrator\\anaconda3\\lib\\site-packages (from nbconvert) (4.11.1)\n",
      "Requirement already satisfied: pandocfilters>=1.4.1 in c:\\users\\administrator\\anaconda3\\lib\\site-packages (from nbconvert) (1.5.0)\n",
      "Requirement already satisfied: traitlets>=5.0 in c:\\users\\administrator\\anaconda3\\lib\\site-packages (from nbconvert) (5.1.1)\n",
      "Requirement already satisfied: nbformat>=4.4 in c:\\users\\administrator\\anaconda3\\lib\\site-packages (from nbconvert) (5.5.0)\n",
      "Requirement already satisfied: bleach in c:\\users\\administrator\\anaconda3\\lib\\site-packages (from nbconvert) (4.1.0)\n",
      "Requirement already satisfied: jinja2>=2.4 in c:\\users\\administrator\\anaconda3\\lib\\site-packages (from nbconvert) (2.11.3)\n",
      "Requirement already satisfied: mistune<2,>=0.8.1 in c:\\users\\administrator\\anaconda3\\lib\\site-packages (from nbconvert) (0.8.4)\n",
      "Requirement already satisfied: nbclient<0.6.0,>=0.5.0 in c:\\users\\administrator\\anaconda3\\lib\\site-packages (from nbconvert) (0.5.13)\n",
      "Requirement already satisfied: jupyterlab-pygments in c:\\users\\administrator\\anaconda3\\lib\\site-packages (from nbconvert) (0.1.2)\n",
      "Requirement already satisfied: pygments>=2.4.1 in c:\\users\\administrator\\anaconda3\\lib\\site-packages (from nbconvert) (2.11.2)\n",
      "Requirement already satisfied: MarkupSafe>=0.23 in c:\\users\\administrator\\anaconda3\\lib\\site-packages (from jinja2>=2.4->nbconvert) (2.0.1)\n",
      "Requirement already satisfied: jupyter-client>=6.1.5 in c:\\users\\administrator\\anaconda3\\lib\\site-packages (from nbclient<0.6.0,>=0.5.0->nbconvert) (7.3.4)\n",
      "Requirement already satisfied: nest-asyncio in c:\\users\\administrator\\anaconda3\\lib\\site-packages (from nbclient<0.6.0,>=0.5.0->nbconvert) (1.5.5)\n",
      "Requirement already satisfied: jsonschema>=2.6 in c:\\users\\administrator\\anaconda3\\lib\\site-packages (from nbformat>=4.4->nbconvert) (4.16.0)\n",
      "Requirement already satisfied: fastjsonschema in c:\\users\\administrator\\anaconda3\\lib\\site-packages (from nbformat>=4.4->nbconvert) (2.16.2)\n",
      "Requirement already satisfied: soupsieve>1.2 in c:\\users\\administrator\\anaconda3\\lib\\site-packages (from beautifulsoup4->nbconvert) (2.3.1)\n",
      "Requirement already satisfied: packaging in c:\\users\\administrator\\anaconda3\\lib\\site-packages (from bleach->nbconvert) (21.3)\n",
      "Requirement already satisfied: six>=1.9.0 in c:\\users\\administrator\\anaconda3\\lib\\site-packages (from bleach->nbconvert) (1.16.0)\n",
      "Requirement already satisfied: webencodings in c:\\users\\administrator\\anaconda3\\lib\\site-packages (from bleach->nbconvert) (0.5.1)\n",
      "Requirement already satisfied: pywin32>=1.0 in c:\\users\\administrator\\anaconda3\\lib\\site-packages (from jupyter-core->nbconvert) (302)\n",
      "Requirement already satisfied: pyrsistent!=0.17.0,!=0.17.1,!=0.17.2,>=0.14.0 in c:\\users\\administrator\\anaconda3\\lib\\site-packages (from jsonschema>=2.6->nbformat>=4.4->nbconvert) (0.18.0)\n",
      "Requirement already satisfied: attrs>=17.4.0 in c:\\users\\administrator\\anaconda3\\lib\\site-packages (from jsonschema>=2.6->nbformat>=4.4->nbconvert) (21.4.0)\n",
      "Requirement already satisfied: pyzmq>=23.0 in c:\\users\\administrator\\anaconda3\\lib\\site-packages (from jupyter-client>=6.1.5->nbclient<0.6.0,>=0.5.0->nbconvert) (23.2.0)\n",
      "Requirement already satisfied: tornado>=6.0 in c:\\users\\administrator\\anaconda3\\lib\\site-packages (from jupyter-client>=6.1.5->nbclient<0.6.0,>=0.5.0->nbconvert) (6.1)\n",
      "Requirement already satisfied: python-dateutil>=2.8.2 in c:\\users\\administrator\\anaconda3\\lib\\site-packages (from jupyter-client>=6.1.5->nbclient<0.6.0,>=0.5.0->nbconvert) (2.8.2)\n",
      "Requirement already satisfied: pyparsing!=3.0.5,>=2.0.2 in c:\\users\\administrator\\anaconda3\\lib\\site-packages (from packaging->bleach->nbconvert) (3.0.9)\n",
      "Note: you may need to restart the kernel to use updated packages.\n"
     ]
    }
   ],
   "source": [
    "pip install nbconvert"
   ]
  },
  {
   "cell_type": "code",
   "execution_count": 6,
   "id": "c2729941-6248-4566-8242-01c9498cc862",
   "metadata": {},
   "outputs": [
    {
     "name": "stderr",
     "output_type": "stream",
     "text": [
      "[NbConvertApp] Converting notebook project1.ipynb to script\n",
      "[NbConvertApp] Writing 4364 bytes to project1.py\n"
     ]
    }
   ],
   "source": [
    "!jupyter nbconvert --to script project1.ipynb "
   ]
  },
  {
   "cell_type": "code",
   "execution_count": null,
   "id": "763e514f-88f8-4f29-b54e-fd930a7f78b4",
   "metadata": {},
   "outputs": [],
   "source": []
  }
 ],
 "metadata": {
  "kernelspec": {
   "display_name": "Python 3 (ipykernel)",
   "language": "python",
   "name": "python3"
  },
  "language_info": {
   "codemirror_mode": {
    "name": "ipython",
    "version": 3
   },
   "file_extension": ".py",
   "mimetype": "text/x-python",
   "name": "python",
   "nbconvert_exporter": "python",
   "pygments_lexer": "ipython3",
   "version": "3.9.16"
  }
 },
 "nbformat": 4,
 "nbformat_minor": 5
}
