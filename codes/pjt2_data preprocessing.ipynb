{
 "cells": [
  {
   "cell_type": "markdown",
   "id": "00f974bb-fffd-4a33-85e4-695b2f0b153f",
   "metadata": {},
   "source": [
    "# Project2_Taewoo Kim_20233219"
   ]
  },
  {
   "cell_type": "markdown",
   "id": "8d3fe60f-ba4e-476f-976f-05d75be48cb2",
   "metadata": {},
   "source": [
    "## 1. Reading raw files and checking dataset"
   ]
  },
  {
   "cell_type": "code",
   "execution_count": 1,
   "id": "a4617b7c-d5ff-41f1-bd86-638972dad804",
   "metadata": {},
   "outputs": [],
   "source": [
    "import os\n",
    "import numpy as np, pandas as pd, matplotlib.pyplot as plt\n",
    "import string, spacy\n",
    "from sklearn.feature_extraction.text import CountVectorizer, TfidfVectorizer\n",
    "from sklearn.decomposition import TruncatedSVD\n",
    "from sklearn.preprocessing import Normalizer\n",
    "from gensim.corpora.dictionary import Dictionary\n",
    "from gensim import models\n",
    "from gensim.models.coherencemodel import CoherenceModel\n",
    "from gensim import corpora, models, utils\n",
    "from gensim.parsing.preprocessing import remove_stopwords\n",
    "import nltk\n",
    "from nltk.stem.porter import PorterStemmer\n",
    "\n",
    "pd.set_option('mode.chained_assignment',  None) #경고 끄기\n",
    "import warnings\n",
    "warnings.filterwarnings(\"ignore\", category=FutureWarning) #경고끄기"
   ]
  },
  {
   "cell_type": "code",
   "execution_count": 2,
   "id": "96e7c314-742a-467e-90a8-e88cda14269b",
   "metadata": {},
   "outputs": [],
   "source": [
    "text_names = sorted([text for text in os.listdir('pjt2_data/') if text.endswith('.xls')])\n",
    "text_raw = pd.concat([pd.read_excel('pjt2_data/' + file) for file in text_names])\n",
    "text_raw.to_csv('text_raw.csv', index=False)"
   ]
  },
  {
   "cell_type": "code",
   "execution_count": 3,
   "id": "32b60091-741d-4c6b-9108-35ab39670541",
   "metadata": {},
   "outputs": [],
   "source": [
    "NLP_data = text_raw[['Article Title', 'Author Keywords', 'Keywords Plus', 'Abstract', 'Affiliations', 'Publication Year', 'Journal ISO Abbreviation']]"
   ]
  },
  {
   "cell_type": "code",
   "execution_count": 4,
   "id": "978745bf-4f0d-47ae-b2fd-9d23100036c9",
   "metadata": {},
   "outputs": [
    {
     "data": {
      "text/html": [
       "<div>\n",
       "<style scoped>\n",
       "    .dataframe tbody tr th:only-of-type {\n",
       "        vertical-align: middle;\n",
       "    }\n",
       "\n",
       "    .dataframe tbody tr th {\n",
       "        vertical-align: top;\n",
       "    }\n",
       "\n",
       "    .dataframe thead th {\n",
       "        text-align: right;\n",
       "    }\n",
       "</style>\n",
       "<table border=\"1\" class=\"dataframe\">\n",
       "  <thead>\n",
       "    <tr style=\"text-align: right;\">\n",
       "      <th></th>\n",
       "      <th>Title</th>\n",
       "      <th>Akwds</th>\n",
       "      <th>Kwds</th>\n",
       "      <th>Abst</th>\n",
       "      <th>Affil</th>\n",
       "      <th>Year</th>\n",
       "      <th>Jabb</th>\n",
       "    </tr>\n",
       "  </thead>\n",
       "  <tbody>\n",
       "    <tr>\n",
       "      <th>0</th>\n",
       "      <td>PACING STRATEGIC CHANGE - THE CASE OF A NEW VE...</td>\n",
       "      <td>NaN</td>\n",
       "      <td>PERFORMANCE; TIME; MANAGEMENT; DECISIONS; FIRM</td>\n",
       "      <td>Theorists debate whether organizations are ine...</td>\n",
       "      <td>NaN</td>\n",
       "      <td>1994.0</td>\n",
       "      <td>Acad. Manage. J.</td>\n",
       "    </tr>\n",
       "    <tr>\n",
       "      <th>1</th>\n",
       "      <td>GENDER DIFFERENCES IN MANAGERS DEVELOPMENTAL J...</td>\n",
       "      <td>NaN</td>\n",
       "      <td>RATIONAL BIAS; DISCRIMINATION; EMPLOYMENT; IMP...</td>\n",
       "      <td>It has been suggested that one reason so few w...</td>\n",
       "      <td>NaN</td>\n",
       "      <td>1994.0</td>\n",
       "      <td>Acad. Manage. J.</td>\n",
       "    </tr>\n",
       "    <tr>\n",
       "      <th>2</th>\n",
       "      <td>INVESTIGATING THE GLASS CEILING PHENOMENON - A...</td>\n",
       "      <td>NaN</td>\n",
       "      <td>SELECTION DECISION-MODELS; MANAGERIAL POSITION...</td>\n",
       "      <td>Although a ''glass ceiling'' is said to keep w...</td>\n",
       "      <td>University of Massachusetts System; University...</td>\n",
       "      <td>1994.0</td>\n",
       "      <td>Acad. Manage. J.</td>\n",
       "    </tr>\n",
       "    <tr>\n",
       "      <th>3</th>\n",
       "      <td>BRINGING THE INDIVIDUAL BACK IN - A STRUCTURAL...</td>\n",
       "      <td>NaN</td>\n",
       "      <td>PERFORMANCE-APPRAISAL RESEARCH; INFORMANT ACCU...</td>\n",
       "      <td>We challenge the claimed incommensurability of...</td>\n",
       "      <td>Carnegie Mellon University</td>\n",
       "      <td>1994.0</td>\n",
       "      <td>Acad. Manage. J.</td>\n",
       "    </tr>\n",
       "    <tr>\n",
       "      <th>4</th>\n",
       "      <td>EXTENDING MODERN PORTFOLIO THEORY INTO THE DOM...</td>\n",
       "      <td>NaN</td>\n",
       "      <td>MODERN FINANCIAL THEORY; SYSTEMATIC-RISK; CAPI...</td>\n",
       "      <td>It is widely held that diversification lowers ...</td>\n",
       "      <td>Case Western Reserve University</td>\n",
       "      <td>1994.0</td>\n",
       "      <td>Acad. Manage. J.</td>\n",
       "    </tr>\n",
       "  </tbody>\n",
       "</table>\n",
       "</div>"
      ],
      "text/plain": [
       "                                               Title Akwds  \\\n",
       "0  PACING STRATEGIC CHANGE - THE CASE OF A NEW VE...   NaN   \n",
       "1  GENDER DIFFERENCES IN MANAGERS DEVELOPMENTAL J...   NaN   \n",
       "2  INVESTIGATING THE GLASS CEILING PHENOMENON - A...   NaN   \n",
       "3  BRINGING THE INDIVIDUAL BACK IN - A STRUCTURAL...   NaN   \n",
       "4  EXTENDING MODERN PORTFOLIO THEORY INTO THE DOM...   NaN   \n",
       "\n",
       "                                                Kwds  \\\n",
       "0     PERFORMANCE; TIME; MANAGEMENT; DECISIONS; FIRM   \n",
       "1  RATIONAL BIAS; DISCRIMINATION; EMPLOYMENT; IMP...   \n",
       "2  SELECTION DECISION-MODELS; MANAGERIAL POSITION...   \n",
       "3  PERFORMANCE-APPRAISAL RESEARCH; INFORMANT ACCU...   \n",
       "4  MODERN FINANCIAL THEORY; SYSTEMATIC-RISK; CAPI...   \n",
       "\n",
       "                                                Abst  \\\n",
       "0  Theorists debate whether organizations are ine...   \n",
       "1  It has been suggested that one reason so few w...   \n",
       "2  Although a ''glass ceiling'' is said to keep w...   \n",
       "3  We challenge the claimed incommensurability of...   \n",
       "4  It is widely held that diversification lowers ...   \n",
       "\n",
       "                                               Affil    Year              Jabb  \n",
       "0                                                NaN  1994.0  Acad. Manage. J.  \n",
       "1                                                NaN  1994.0  Acad. Manage. J.  \n",
       "2  University of Massachusetts System; University...  1994.0  Acad. Manage. J.  \n",
       "3                         Carnegie Mellon University  1994.0  Acad. Manage. J.  \n",
       "4                    Case Western Reserve University  1994.0  Acad. Manage. J.  "
      ]
     },
     "execution_count": 4,
     "metadata": {},
     "output_type": "execute_result"
    }
   ],
   "source": [
    "NLP_data1 = NLP_data.rename({'Article Title': 'Title', 'Author Keywords': 'Akwds',\n",
    "               'Keywords Plus': 'Kwds', 'Abstract': 'Abst', 'Affiliations': 'Affil',\n",
    "               'Publication Year': 'Year', 'Journal ISO Abbreviation': 'Jabb'}, axis=1)\n",
    "\n",
    "NLP_data1.head()"
   ]
  },
  {
   "cell_type": "code",
   "execution_count": 5,
   "id": "df3350c7-78b1-4827-bd4d-d3884989e3ec",
   "metadata": {},
   "outputs": [
    {
     "data": {
      "text/plain": [
       "Index(['Article Title', 'Author Keywords', 'Keywords Plus', 'Abstract',\n",
       "       'Affiliations', 'Publication Year', 'Journal ISO Abbreviation'],\n",
       "      dtype='object')"
      ]
     },
     "execution_count": 5,
     "metadata": {},
     "output_type": "execute_result"
    }
   ],
   "source": [
    "NLP_data.columns"
   ]
  },
  {
   "cell_type": "code",
   "execution_count": 6,
   "id": "771cd0e9-914e-41cf-beba-08994518a39d",
   "metadata": {},
   "outputs": [
    {
     "data": {
      "text/plain": [
       "Index(['Title', 'Akwds', 'Kwds', 'Abst', 'Affil', 'Year', 'Jabb'], dtype='object')"
      ]
     },
     "execution_count": 6,
     "metadata": {},
     "output_type": "execute_result"
    }
   ],
   "source": [
    "NLP_data1.columns"
   ]
  },
  {
   "cell_type": "code",
   "execution_count": 7,
   "id": "b59992ff-1a7e-482a-a387-b6bf3dcaf583",
   "metadata": {},
   "outputs": [
    {
     "data": {
      "text/plain": [
       "Title       0\n",
       "Akwds    2501\n",
       "Kwds     1088\n",
       "Abst      683\n",
       "Affil     841\n",
       "Year      599\n",
       "Jabb        0\n",
       "dtype: int64"
      ]
     },
     "execution_count": 7,
     "metadata": {},
     "output_type": "execute_result"
    }
   ],
   "source": [
    "NLP_data1.isna().sum()"
   ]
  },
  {
   "cell_type": "code",
   "execution_count": 8,
   "id": "259acaba-c873-4988-9db2-5bf3bb2b1577",
   "metadata": {},
   "outputs": [
    {
     "data": {
      "text/plain": [
       "Title     object\n",
       "Akwds     object\n",
       "Kwds      object\n",
       "Abst      object\n",
       "Affil     object\n",
       "Year     float64\n",
       "Jabb      object\n",
       "dtype: object"
      ]
     },
     "execution_count": 8,
     "metadata": {},
     "output_type": "execute_result"
    }
   ],
   "source": [
    "NLP_data1.dtypes"
   ]
  },
  {
   "cell_type": "code",
   "execution_count": 9,
   "id": "e6a2df17-5041-423a-907f-f6d2791d5941",
   "metadata": {},
   "outputs": [],
   "source": [
    "NLP_data2 = NLP_data1[NLP_data1['Abst'].notna()]"
   ]
  },
  {
   "cell_type": "code",
   "execution_count": 10,
   "id": "330a60c5-594b-445c-af3c-8e0f795383de",
   "metadata": {},
   "outputs": [
    {
     "data": {
      "text/plain": [
       "Title       0\n",
       "Akwds    1829\n",
       "Kwds      442\n",
       "Abst        0\n",
       "Affil     507\n",
       "Year      599\n",
       "Jabb        0\n",
       "dtype: int64"
      ]
     },
     "execution_count": 10,
     "metadata": {},
     "output_type": "execute_result"
    }
   ],
   "source": [
    "NLP_data2.isna().sum()"
   ]
  },
  {
   "cell_type": "code",
   "execution_count": 11,
   "id": "84691ac0-d8bb-415d-b739-4e0dd0045126",
   "metadata": {},
   "outputs": [],
   "source": [
    "NLP_data2['Year'] = NLP_data2['Year'].fillna(2023)"
   ]
  },
  {
   "cell_type": "code",
   "execution_count": 12,
   "id": "9485809b-3e8f-40a7-9839-359447917916",
   "metadata": {},
   "outputs": [
    {
     "data": {
      "text/plain": [
       "Title       0\n",
       "Akwds    1829\n",
       "Kwds      442\n",
       "Abst        0\n",
       "Affil     507\n",
       "Year        0\n",
       "Jabb        0\n",
       "dtype: int64"
      ]
     },
     "execution_count": 12,
     "metadata": {},
     "output_type": "execute_result"
    }
   ],
   "source": [
    "NLP_data2.isna().sum()"
   ]
  },
  {
   "cell_type": "code",
   "execution_count": 13,
   "id": "37927144-cc0f-4d52-b16b-6995dbc605ac",
   "metadata": {},
   "outputs": [
    {
     "data": {
      "text/plain": [
       "Jabb\n",
       "Acad. Manage. J.       1774\n",
       "Manage. Sci.           5398\n",
       "Organ Sci.             1781\n",
       "Strateg. Manage. J.    2282\n",
       "Name: Title, dtype: int64"
      ]
     },
     "execution_count": 13,
     "metadata": {},
     "output_type": "execute_result"
    }
   ],
   "source": [
    "NLP_data2.groupby('Jabb')['Title'].nunique()"
   ]
  },
  {
   "cell_type": "code",
   "execution_count": 14,
   "id": "dbb24ce7-dca5-41f3-86f2-250038d4feee",
   "metadata": {},
   "outputs": [
    {
     "data": {
      "text/plain": [
       "Jabb\n",
       "Acad. Manage. J.       1774\n",
       "Manage. Sci.           5400\n",
       "Organ Sci.             1781\n",
       "Strateg. Manage. J.    2282\n",
       "Name: Title, dtype: int64"
      ]
     },
     "execution_count": 14,
     "metadata": {},
     "output_type": "execute_result"
    }
   ],
   "source": [
    "NLP_data2.groupby('Jabb')['Title'].count() # nunique와 count 개수 다르면 중복값이 있다는 것"
   ]
  },
  {
   "cell_type": "code",
   "execution_count": 15,
   "id": "cef69bf7-202b-46ec-b052-cb384f426c69",
   "metadata": {},
   "outputs": [],
   "source": [
    "NLP_data3 = NLP_data2.drop_duplicates(subset = 'Title') # Title 중복값 제거"
   ]
  },
  {
   "cell_type": "code",
   "execution_count": 16,
   "id": "a51ca97f-ac1d-464a-b521-c1e2d7cf2328",
   "metadata": {},
   "outputs": [
    {
     "data": {
      "text/plain": [
       "Jabb\n",
       "Acad. Manage. J.       1774\n",
       "Manage. Sci.           5398\n",
       "Organ Sci.             1781\n",
       "Strateg. Manage. J.    2282\n",
       "Name: Title, dtype: int64"
      ]
     },
     "execution_count": 16,
     "metadata": {},
     "output_type": "execute_result"
    }
   ],
   "source": [
    "NLP_data3.groupby('Jabb')['Title'].count()"
   ]
  },
  {
   "cell_type": "code",
   "execution_count": 17,
   "id": "a10d6f86-b8a7-4926-8ff6-cd61ba46da64",
   "metadata": {},
   "outputs": [
    {
     "data": {
      "text/plain": [
       "Jabb\n",
       "Acad. Manage. J.       1774\n",
       "Manage. Sci.           5395\n",
       "Organ Sci.             1781\n",
       "Strateg. Manage. J.    2282\n",
       "Name: Abst, dtype: int64"
      ]
     },
     "execution_count": 17,
     "metadata": {},
     "output_type": "execute_result"
    }
   ],
   "source": [
    "NLP_data3.groupby('Jabb')['Abst'].nunique()"
   ]
  },
  {
   "cell_type": "code",
   "execution_count": 18,
   "id": "37b45c99-5644-474e-9c81-863584bd08d4",
   "metadata": {},
   "outputs": [
    {
     "data": {
      "text/plain": [
       "Jabb\n",
       "Acad. Manage. J.       1774\n",
       "Manage. Sci.           5398\n",
       "Organ Sci.             1781\n",
       "Strateg. Manage. J.    2282\n",
       "Name: Abst, dtype: int64"
      ]
     },
     "execution_count": 18,
     "metadata": {},
     "output_type": "execute_result"
    }
   ],
   "source": [
    "NLP_data3.groupby('Jabb')['Abst'].count() # nunique와 count 개수 다르면 중복값이 있다는 것"
   ]
  },
  {
   "cell_type": "code",
   "execution_count": 19,
   "id": "c571dff3-613d-48ae-8c7e-3f0cf8031018",
   "metadata": {},
   "outputs": [],
   "source": [
    "NLP_data4 = NLP_data3.drop_duplicates(subset = 'Abst') # Abst 중복값 제거"
   ]
  },
  {
   "cell_type": "code",
   "execution_count": 20,
   "id": "cad558bd-62c5-4f9d-aa95-d7252b2b2459",
   "metadata": {},
   "outputs": [
    {
     "data": {
      "text/plain": [
       "Jabb\n",
       "Acad. Manage. J.       1774\n",
       "Manage. Sci.           5395\n",
       "Organ Sci.             1781\n",
       "Strateg. Manage. J.    2282\n",
       "Name: Abst, dtype: int64"
      ]
     },
     "execution_count": 20,
     "metadata": {},
     "output_type": "execute_result"
    }
   ],
   "source": [
    "NLP_data4.groupby('Jabb')['Abst'].count()"
   ]
  },
  {
   "cell_type": "code",
   "execution_count": 21,
   "id": "50e5f476-5fb3-4890-8c21-31a6422e0ed0",
   "metadata": {},
   "outputs": [
    {
     "data": {
      "text/plain": [
       "Title    object\n",
       "Akwds    object\n",
       "Kwds     object\n",
       "Abst     object\n",
       "Affil    object\n",
       "Year      int32\n",
       "Jabb     object\n",
       "dtype: object"
      ]
     },
     "execution_count": 21,
     "metadata": {},
     "output_type": "execute_result"
    }
   ],
   "source": [
    "NLP_data4['Year'] = NLP_data4['Year'].astype('int')\n",
    "NLP_data4.dtypes"
   ]
  },
  {
   "cell_type": "code",
   "execution_count": 22,
   "id": "b24af630-eb17-4575-9931-906dcb669bae",
   "metadata": {},
   "outputs": [
    {
     "data": {
      "text/plain": [
       "Title       0\n",
       "Akwds    1829\n",
       "Kwds      442\n",
       "Abst        0\n",
       "Affil     507\n",
       "Year        0\n",
       "Jabb        0\n",
       "dtype: int64"
      ]
     },
     "execution_count": 22,
     "metadata": {},
     "output_type": "execute_result"
    }
   ],
   "source": [
    "NLP_data4.isna().sum()"
   ]
  },
  {
   "cell_type": "code",
   "execution_count": 23,
   "id": "88c1a638-bbd2-4ebf-b303-3edad1208bf1",
   "metadata": {},
   "outputs": [],
   "source": [
    "NLP_data5 = NLP_data4.fillna('').astype(str)"
   ]
  },
  {
   "cell_type": "code",
   "execution_count": 24,
   "id": "b2fe6121-8e65-4b96-bd21-8e4603b479db",
   "metadata": {},
   "outputs": [],
   "source": [
    "NLP_data5.to_csv('pjt2_data/NLP_finn.csv', index=False)"
   ]
  },
  {
   "cell_type": "code",
   "execution_count": null,
   "id": "c0d420e1-3210-48a4-9234-e9a38ac6d2d5",
   "metadata": {},
   "outputs": [],
   "source": []
  }
 ],
 "metadata": {
  "kernelspec": {
   "display_name": "Python 3 (ipykernel)",
   "language": "python",
   "name": "python3"
  },
  "language_info": {
   "codemirror_mode": {
    "name": "ipython",
    "version": 3
   },
   "file_extension": ".py",
   "mimetype": "text/x-python",
   "name": "python",
   "nbconvert_exporter": "python",
   "pygments_lexer": "ipython3",
   "version": "3.9.16"
  }
 },
 "nbformat": 4,
 "nbformat_minor": 5
}
