{
 "cells": [
  {
   "cell_type": "markdown",
   "id": "e5c99363-3e3e-4ad8-9628-1f693e3e0c95",
   "metadata": {},
   "source": [
    "# TensorFlow Basics and XOR Problem"
   ]
  },
  {
   "cell_type": "code",
   "execution_count": 3,
   "id": "1a670f5f-5b9a-4d04-b5ec-4200f149b528",
   "metadata": {},
   "outputs": [],
   "source": [
    "import os\n",
    "os.environ['TF_CPP_MIN_LOG_LEVEL'] ='2' # for silencing warnings\n",
    "import tensorflow as tf\n",
    "import numpy as np\n",
    "import math\n",
    "import matplotlib.pyplot as plt\n",
    "from tensorflow import keras\n",
    "from tensorflow.keras import layers"
   ]
  },
  {
   "cell_type": "markdown",
   "id": "c90bdb10-594f-4646-a372-ebb9d1195b72",
   "metadata": {},
   "source": [
    "## 1. Tensorflow Basic"
   ]
  },
  {
   "cell_type": "code",
   "execution_count": 5,
   "id": "b77c1015-6582-4976-814c-3c29d2f99603",
   "metadata": {},
   "outputs": [
    {
     "name": "stdout",
     "output_type": "stream",
     "text": [
      "2.11.0\n",
      "b'Hello, TensorFlow'\n",
      "Hello, TensorFlow\n"
     ]
    }
   ],
   "source": [
    "print(tf.__version__)\n",
    "hello = tf.constant('Hello, TensorFlow') # 상수 텐서 생성\n",
    "print(hello.numpy()) # hello 텐서의 값을 넘파이 배열로 변환하여 출력\n",
    "tf.print(hello) # hello 텐서의 값 출력"
   ]
  },
  {
   "cell_type": "code",
   "execution_count": 6,
   "id": "1c669a61-d32e-4d1d-9a80-2f6b8c12f76e",
   "metadata": {},
   "outputs": [
    {
     "name": "stdout",
     "output_type": "stream",
     "text": [
      "[[0.867334 0.661256313]\n",
      " [0.751828074 0.215872288]\n",
      " [0.65317297 0.980561852]]\n"
     ]
    }
   ],
   "source": [
    "# Random number generation with uniform distribution\n",
    "ru_num = tf.random.uniform([3,2],0,1) # 0부터 1 사이의 균일 분포를 따르는 난수로 구성된 3x2 형태의 텐서를 생성\n",
    "tf.print(ru_num) "
   ]
  },
  {
   "cell_type": "code",
   "execution_count": 7,
   "id": "6302a5b3-1fdd-48b0-96ab-56e5eff393af",
   "metadata": {},
   "outputs": [
    {
     "name": "stdout",
     "output_type": "stream",
     "text": [
      "[[[-0.515627742 -1.92001951 0.67796123]\n",
      "  [-0.261559904 0.401146263 -1.38758039]]\n",
      "\n",
      " [[0.711531043 1.17894244 -1.54037404]\n",
      "  [0.114501804 -1.57900167 -0.551791]]]\n"
     ]
    }
   ],
   "source": [
    "# Random number generation with normal distribution\n",
    "rn_num = tf.random.normal([2,2,3],0,1) # 2x2x3 형태의 정규 분포(normal distribution)를 따르는 난수로 구성된 텐서 생성\n",
    "tf.print(rn_num)"
   ]
  },
  {
   "cell_type": "code",
   "execution_count": 9,
   "id": "dcbcebea-4e88-47ec-ae75-aabf3efd896e",
   "metadata": {},
   "outputs": [
    {
     "name": "stdout",
     "output_type": "stream",
     "text": [
      "0.0066928509242848554 0.5 0.9933071490757153\n"
     ]
    }
   ],
   "source": [
    "def sigmo(x):\n",
    "    \"\"\"Sigmoid function\"\"\"\n",
    "    return 1/(1+math.exp(-x))\n",
    "print(sigmo(-5), sigmo(0), sigmo(5))"
   ]
  },
  {
   "cell_type": "code",
   "execution_count": 10,
   "id": "5af01cc1-6e48-44d6-b3b0-de99ab43281e",
   "metadata": {},
   "outputs": [
    {
     "name": "stdout",
     "output_type": "stream",
     "text": [
      "[0.628063619] 0.6520502641628829\n"
     ]
    }
   ],
   "source": [
    "x = 1; y = 0\n",
    "w = tf.random.normal([1],0,1)\n",
    "result = sigmo(x*w)\n",
    "tf.print(w, result)"
   ]
  },
  {
   "cell_type": "code",
   "execution_count": 11,
   "id": "8c745f7b-01e7-4e9d-b453-dfdaae73a503",
   "metadata": {},
   "outputs": [
    {
     "name": "stdout",
     "output_type": "stream",
     "text": [
      "99, -0.11319, 0.11319, [-2.0699084]\n",
      "199, -0.05528, 0.05528, [-2.8440723]\n",
      "299, -0.03614, 0.03614, [-3.2870517]\n",
      "399, -0.02676, 0.02676, [-3.5964742]\n",
      "499, -0.02121, 0.02121, [-3.8339226]\n",
      "599, -0.01756, 0.01756, [-4.026431]\n",
      "699, -0.01497, 0.01497, [-4.1882396]\n",
      "799, -0.01304, 0.01304, [-4.3277535]\n",
      "899, -0.01155, 0.01155, [-4.4503555]\n",
      "999, -0.01037, 0.01037, [-4.5596857]\n"
     ]
    }
   ],
   "source": [
    "# classification with sigmoid activation function: Case 1\n",
    "alpha = 0.1 # 학습률(learning rate)로서 가중치 갱신 시 사용될 값\n",
    "for i in range(1000):\n",
    "    output = sigmo(x*w) # 입력(x)과 가중치(w)를 이용하여 출력(output) 계산\n",
    "    error = y - output\n",
    "    w = w + x*alpha*error # 가중치 갱신\n",
    "    if i % 100 == 99:\n",
    "        tf.print(f'{i}, {error:.5f}, {output:.5f}, {w}')"
   ]
  },
  {
   "cell_type": "code",
   "execution_count": 12,
   "id": "8602355e-5b9d-4f4f-a9c2-2acd2207c33a",
   "metadata": {},
   "outputs": [
    {
     "name": "stdout",
     "output_type": "stream",
     "text": [
      "99 0.5 0.5 [0.526089311]\n",
      "199 0.5 0.5 [0.526089311]\n",
      "299 0.5 0.5 [0.526089311]\n",
      "399 0.5 0.5 [0.526089311]\n",
      "499 0.5 0.5 [0.526089311]\n",
      "599 0.5 0.5 [0.526089311]\n",
      "699 0.5 0.5 [0.526089311]\n",
      "799 0.5 0.5 [0.526089311]\n",
      "899 0.5 0.5 [0.526089311]\n",
      "999 0.5 0.5 [0.526089311]\n"
     ]
    }
   ],
   "source": [
    "# classification with sigmoid activation function: Case 2\n",
    "x=0; y=1; alpha=0.1\n",
    "w = tf.random.normal([1],0,1)\n",
    "for i in range(1000):\n",
    "    output = sigmo(x*w)\n",
    "    error = y - output\n",
    "    w = w + x*alpha*error\n",
    "    if i % 100 == 99:\n",
    "        tf.print(i, error, output, w)"
   ]
  },
  {
   "cell_type": "code",
   "execution_count": 15,
   "id": "8a1b498d-6ed7-4067-b8b7-3d9dc53b61d8",
   "metadata": {},
   "outputs": [
    {
     "name": "stdout",
     "output_type": "stream",
     "text": [
      "99, 0.11677, 0.88323, [2.1926222], [2.0350652]\n",
      "199, 0.05617, 0.94383, [2.9846983], [2.8271413]\n",
      "299, 0.03653, 0.96347, [3.433557], [3.276]\n",
      "399, 0.02697, 0.97303, [3.745857], [3.5883]\n",
      "499, 0.02135, 0.97865, [3.985003], [3.827446]\n",
      "599, 0.01765, 0.98235, [4.1786304], [4.0210743]\n",
      "699, 0.01504, 0.98496, [4.3412294], [4.1836734]\n",
      "799, 0.01309, 0.98691, [4.481335], [4.323779]\n",
      "899, 0.01159, 0.98841, [4.6043897], [4.4468336]\n",
      "999, 0.01040, 0.98960, [4.714081], [4.5565248]\n"
     ]
    }
   ],
   "source": [
    "# classification with sigmoid activation function: Case 3\n",
    "x=0; y=1; alpha=0.1\n",
    "w = tf.random.normal([1],0,1)\n",
    "b = tf.random.normal([1],0,1)\n",
    "for i in range(1000):\n",
    "    output = sigmo(x*w+b)\n",
    "    error = y - output\n",
    "    w = w + alpha*error\n",
    "    b = b+ alpha*error\n",
    "    if i%100 == 99:\n",
    "        tf.print(f'{i}, {error:.5f}, {output:.5f}, {w}, {b}')"
   ]
  },
  {
   "cell_type": "markdown",
   "id": "a01a04c3-0081-4287-89c3-009f87612793",
   "metadata": {},
   "source": [
    "## 2. And, Or, Xor"
   ]
  },
  {
   "cell_type": "code",
   "execution_count": 19,
   "id": "93ffe407-7499-4e0d-a5c2-16bba244742e",
   "metadata": {},
   "outputs": [],
   "source": [
    "# And classification\n",
    "x = np.array([[1,1], [1,0], [0,1], [0,0]])\n",
    "y = np.array([1,0,0,0])\n",
    "alpha = 0.1\n",
    "w = tf.random.normal([2],0,1)\n",
    "b = tf.random.normal([1],0,1)"
   ]
  },
  {
   "cell_type": "code",
   "execution_count": 20,
   "id": "62e7b37b-c97b-40a1-8ecb-f7f6d2d9ea4c",
   "metadata": {},
   "outputs": [
    {
     "name": "stdout",
     "output_type": "stream",
     "text": [
      "199 -0.10859190811617815 [2.7487965 2.7480726] [-4.371419]\n",
      "399 -0.06509696806549983 [3.8756626 3.8868809] [-6.032301]\n",
      "599 -0.04636409075543933 [4.6145144 4.6236963] [-7.1252904]\n",
      "799 -0.035900353926343005 [5.1624207 5.169754 ] [-7.938705]\n",
      "999 -0.02923618861172763 [5.596977 5.60301 ] [-8.585288]\n",
      "1199 -0.0246312097974632 [5.956608  5.9617105] [-9.121166]\n",
      "1399 -0.021263767681076004 [6.263092 6.267506] [-9.578322]\n",
      "1599 -0.01869666244412322 [6.5299697 6.533854 ] [-9.976701]\n",
      "1799 -0.01667567244458324 [6.7662225 6.769687 ] [-10.329577]\n",
      "1999 -0.015044378928674995 [6.97809   6.9812174] [-10.646181]\n"
     ]
    }
   ],
   "source": [
    "for i in range(2000):\n",
    "    error_sum = 0\n",
    "    for j in range(4):\n",
    "        output = sigmo(x[j].dot(w)+b) # 입력(x)와 가중치(w) 그리고 편향(b)을 이용하여 출력(output) 계산\n",
    "        error = y[j] - output # 실제값(y)과 출력(output)의 오차 계산\n",
    "        w = w + alpha*error*x[j] # 가중치(w) 갱신\n",
    "        b = b + alpha*error # 편향(b) 갱신\n",
    "        error_sum += error # 에러의 합을 업데이트합니다.\n",
    "    if i%200 == 199:\n",
    "        print(i, error_sum, w.numpy(), b.numpy())"
   ]
  },
  {
   "cell_type": "code",
   "execution_count": 26,
   "id": "ca5234c3-5662-456c-81b2-8710a79c09d5",
   "metadata": {},
   "outputs": [
    {
     "name": "stdout",
     "output_type": "stream",
     "text": [
      "X:[1 1] Y:1 Prediction: 0.96488\n",
      "X:[1 0] Y:0 Prediction: 0.02489\n",
      "X:[0 1] Y:0 Prediction: 0.02497\n",
      "X:[0 0] Y:0 Prediction: 0.00002\n"
     ]
    }
   ],
   "source": [
    "for i in range(4):\n",
    "    print(f'X:{x[i]} Y:{y[i]} Prediction: {sigmo(np.sum(x[i]*w)+b):.5f}')"
   ]
  },
  {
   "cell_type": "code",
   "execution_count": null,
   "id": "75696509-d9a1-4350-b559-d3efe2618ab5",
   "metadata": {},
   "outputs": [],
   "source": [
    "# Or classification\n"
   ]
  }
 ],
 "metadata": {
  "kernelspec": {
   "display_name": "Python 3 (ipykernel)",
   "language": "python",
   "name": "python3"
  },
  "language_info": {
   "codemirror_mode": {
    "name": "ipython",
    "version": 3
   },
   "file_extension": ".py",
   "mimetype": "text/x-python",
   "name": "python",
   "nbconvert_exporter": "python",
   "pygments_lexer": "ipython3",
   "version": "3.9.16"
  }
 },
 "nbformat": 4,
 "nbformat_minor": 5
}
